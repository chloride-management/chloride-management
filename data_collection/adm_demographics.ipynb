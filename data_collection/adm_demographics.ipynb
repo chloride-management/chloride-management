{
 "cells": [
  {
   "cell_type": "code",
   "execution_count": null,
   "metadata": {},
   "outputs": [],
   "source": [
    "import psycopg2\n",
    "\n",
    "dbname = \"mimic\"\n",
    "user = \"username\""
   ]
  },
  {
   "cell_type": "code",
   "execution_count": null,
   "metadata": {},
   "outputs": [],
   "source": [
    "# We use DATE_PART('day', ...) since the difference returns 'D days HH:DD:SS'.\n",
    "#\n",
    "# This ethnicity grouping results in ~8000 cases under 'OTHER' - the majority\n",
    "# of which are truly unknown/other/declined-to-respond. There are a few\n",
    "# ethnicities that number < 100 (i.e. Portuguese) which were grouped under\n",
    "# 'OTHER' for simplicity.\n",
    "#\n",
    "# We filter out infants and children to focus on adults. Recalling MIMIC's\n",
    "# age shifting for patients older than 89, set the ages for this group to\n",
    "# 91.4 (the median age of the group):\n",
    "# https://mimic.physionet.org/mimictables/patients/#dob\n",
    "query = \"\"\"\n",
    "    SELECT subject_id, hadm_id,\n",
    "        (CASE WHEN age < 90 THEN age ELSE 91.4 END) AS age,\n",
    "        gender, ethnicity, insurance\n",
    "    FROM (\n",
    "        SELECT pt.subject_id, adm.hadm_id,\n",
    "            DATE_PART('day', adm.admittime - pt.dob)/365 AS age, pt.gender,\n",
    "            CASE\n",
    "                WHEN adm.ethnicity LIKE '%WHITE%' THEN 'WHITE'\n",
    "                WHEN adm.ethnicity LIKE '%ASIAN%' THEN 'ASIAN'\n",
    "                WHEN adm.ethnicity LIKE '%HISPANIC%' THEN 'HISPANIC'\n",
    "                WHEN adm.ethnicity LIKE '%BLACK%' THEN 'BLACK'\n",
    "                ELSE 'OTHER'\n",
    "            END AS ethnicity, adm.insurance\n",
    "        FROM mimiciii.patients AS pt\n",
    "        JOIN mimiciii.admissions AS adm\n",
    "            ON adm.subject_id = pt.subject_id\n",
    "    ) AS unfiltered\n",
    "    WHERE age >= 18\n",
    "    ORDER BY subject_id, hadm_id\n",
    "\"\"\""
   ]
  },
  {
   "cell_type": "code",
   "execution_count": null,
   "metadata": {},
   "outputs": [],
   "source": [
    "connection = psycopg2.connect(\"dbname=%s user=%s\" % (dbname, user))\n",
    "c = connection.cursor()\n",
    "\n",
    "outputquery = \"COPY ({0}) TO STDOUT WITH CSV HEADER\".format(query)\n",
    "with open('adm_demographics.csv', 'w') as f:\n",
    "    c.copy_expert(outputquery, f)"
   ]
  }
 ],
 "metadata": {
  "kernelspec": {
   "display_name": "Python 2",
   "language": "python",
   "name": "python2"
  },
  "language_info": {
   "codemirror_mode": {
    "name": "ipython",
    "version": 2
   },
   "file_extension": ".py",
   "mimetype": "text/x-python",
   "name": "python",
   "nbconvert_exporter": "python",
   "pygments_lexer": "ipython2",
   "version": "2.7.10"
  }
 },
 "nbformat": 4,
 "nbformat_minor": 2
}
