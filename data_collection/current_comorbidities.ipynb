{
 "cells": [
  {
   "cell_type": "code",
   "execution_count": null,
   "metadata": {},
   "outputs": [],
   "source": [
    "import psycopg2\n",
    "import pandas as pd\n",
    "import numpy as np\n",
    "import datetime\n",
    "\n",
    "con = psycopg2.connect(dbname = dbname, user = sqluser, password = password, host = host, port = port)"
   ]
  },
  {
   "cell_type": "code",
   "execution_count": null,
   "metadata": {},
   "outputs": [],
   "source": [
    "query = \"\"\"\n",
    "select subject_id,hadm_id,admittime from mimiciii.admissions order by subject_id, admittime\n",
    "\"\"\"\n",
    "df = pd.read_sql_query(query, con)"
   ]
  },
  {
   "cell_type": "code",
   "execution_count": null,
   "metadata": {},
   "outputs": [],
   "source": [
    "# Diagnosis Code(group by elixhauser)\n",
    "df_icd = pd.read_csv('elixhauser.csv')\n",
    "df_icd = df_icd.drop(df_icd.columns[[0]], axis=1)\n",
    "df_icd = df_icd.fillna(0)\n",
    "df_icd = df_icd.set_index('hadm_id')\n",
    "df_icd = df_icd.astype(np.int64)\n",
    "\n",
    "data = df_icd.join(df, how = 'left')\n",
    "data = data.reset_index()\n",
    "data = data.set_index(['hadm_id','subject_id','admittime'])"
   ]
  },
  {
   "cell_type": "code",
   "execution_count": null,
   "metadata": {},
   "outputs": [],
   "source": [
    "data['RENAL'] = np.where(data['renal_failure'] == 1, '1', '0')\n",
    "data['CARDIOVASCULAR'] = np.where((data['congestive_heart_failure'] == 1 or\n",
    "                                   data['cardiac_arrhythmias'] == 1 or\n",
    "                                   data['valvular_disease'] == 1 or\n",
    "                                   data['pulmonary_circulation'] == 1 or\n",
    "                                   data['peripheral_vascular'] == 1\n",
    "                                  ), \n",
    "                                  '1', '0')\n",
    "data['RESPIRATORY'] = np.where(data['chronic_pulmonary'] == 1, '1', '0')\n",
    "data['HEPATIC'] = np.where(data['liver_disease'] == 1, '1', '0')\n",
    "data['CANCER'] = np.where((data['lymphoma'] == 1 or\n",
    "                                   data['metastatic_cancer'] == 1 or\n",
    "                                   data['solid_tumor'] == 1\n",
    "                                  ), \n",
    "                                  '1', '0')\n",
    "data['DIABETES'] = np.where((data['diabetes_uncomplicated'] == 1 or\n",
    "                                   data['diabetes_complicated'] == 1 \n",
    "                                  ), \n",
    "                                  '1', '0')\n",
    "data['RENAL'] = np.where(data['renal_failure'] == 1, '1', '0')\n",
    "data['MULTIPLE COMORBIDITIES'] =  np.where(data.sum(axis = 1) >= 2, '1', '0') "
   ]
  },
  {
   "cell_type": "code",
   "execution_count": null,
   "metadata": {},
   "outputs": [],
   "source": [
    "data.to_csv('current_comorbidities.csv')"
   ]
  }
 ],
 "metadata": {
  "kernelspec": {
   "display_name": "Python 3",
   "language": "python",
   "name": "python3"
  },
  "language_info": {
   "codemirror_mode": {
    "name": "ipython",
    "version": 3
   },
   "file_extension": ".py",
   "mimetype": "text/x-python",
   "name": "python",
   "nbconvert_exporter": "python",
   "pygments_lexer": "ipython3",
   "version": "3.6.8"
  }
 },
 "nbformat": 4,
 "nbformat_minor": 2
}
